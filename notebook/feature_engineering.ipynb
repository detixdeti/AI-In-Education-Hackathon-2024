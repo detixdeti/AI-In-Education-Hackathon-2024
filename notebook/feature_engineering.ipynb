{
 "cells": [
  {
   "cell_type": "code",
   "execution_count": 1,
   "metadata": {},
   "outputs": [],
   "source": [
    "import pandas as pd\n",
    "import numpy as np\n",
    "from sklearn.preprocessing import PolynomialFeatures\n",
    "from sklearn.linear_model import LinearRegression\n",
    "\n",
    "# Load the dataset\n",
    "df = pd.read_csv('../data/exams.csv')\n",
    "\n",
    "# Create interaction terms between selected features\n",
    "df['gender_parental_education'] = df['gender'] + \"_\" + df['parental level of education']\n",
    "\n",
    "# Use one-hot encoding for the interaction terms\n",
    "df = pd.get_dummies(df, columns=['gender_parental_education'], drop_first=True)\n",
    "\n",
    "# Define features (X) and target (y)\n",
    "X = pd.get_dummies(df[['gender', 'race/ethnicity', 'parental level of education', 'lunch', 'test preparation course']], drop_first=True)\n",
    "y = df[['math score', 'reading score', 'writing score']]\n",
    "\n",
    "# Polynomial Features\n",
    "poly = PolynomialFeatures(degree=2, include_bias=False)\n",
    "X_poly = poly.fit_transform(X)\n"
   ]
  },
  {
   "cell_type": "code",
   "execution_count": 3,
   "metadata": {},
   "outputs": [
    {
     "name": "stdout",
     "output_type": "stream",
     "text": [
      "Feature Engineering and Polynomial Features Applied:\n",
      "Predictions for math, reading, and writing scores:\n",
      " [[74.9896875  82.69059375 85.265     ]\n",
      " [76.21625    71.23746875 68.2103125 ]\n",
      " [56.71625    64.74528125 65.94078125]\n",
      " ...\n",
      " [72.4740625  81.76285938 81.63804688]\n",
      " [83.59125    74.69059375 70.5228125 ]\n",
      " [71.59125    64.79996875 63.1321875 ]]\n"
     ]
    }
   ],
   "source": [
    "# Train the model using the new feature set\n",
    "model = LinearRegression()\n",
    "model.fit(X_poly, y)\n",
    "\n",
    "# Predict new scores using polynomial features\n",
    "predictions = model.predict(X_poly)\n",
    "\n",
    "print(\"Feature Engineering and Polynomial Features Applied:\")\n",
    "print(\"Predictions for math, reading, and writing scores:\\n\", predictions)"
   ]
  }
 ],
 "metadata": {
  "kernelspec": {
   "display_name": ".venv",
   "language": "python",
   "name": "python3"
  },
  "language_info": {
   "codemirror_mode": {
    "name": "ipython",
    "version": 3
   },
   "file_extension": ".py",
   "mimetype": "text/x-python",
   "name": "python",
   "nbconvert_exporter": "python",
   "pygments_lexer": "ipython3",
   "version": "3.12.4"
  }
 },
 "nbformat": 4,
 "nbformat_minor": 2
}
